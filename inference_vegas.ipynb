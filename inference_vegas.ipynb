{
 "cells": [
  {
   "cell_type": "code",
   "execution_count": 1,
   "metadata": {},
   "outputs": [],
   "source": [
    "import pathlib\n",
    "from tqdm import tqdm"
   ]
  },
  {
   "cell_type": "code",
   "execution_count": 2,
   "metadata": {},
   "outputs": [],
   "source": [
    "saved_model = './model_save/openbldg/sig_grey'\n",
    "input_w = 256\n",
    "input_h = 256\n",
    "input_channels = 1\n",
    "num_classes = 3\n",
    "overlap = 128\n",
    "output_dir = './inf_test_output/'\n",
    "png = False"
   ]
  },
  {
   "cell_type": "code",
   "execution_count": 3,
   "metadata": {},
   "outputs": [
    {
     "data": {
      "text/plain": [
       "PosixPath('/data/spacenet/AOI_2_Vegas/train/3band/RGB-PanSharpen_AOI_2_Vegas_img2267.tif')"
      ]
     },
     "execution_count": 3,
     "metadata": {},
     "output_type": "execute_result"
    }
   ],
   "source": [
    "paths = ['/data/spacenet/AOI_2_Vegas/train/3band/', '/data/spacenet/AOI_2_Vegas/val/3band/']\n",
    "img_list = []\n",
    "for path in paths:\n",
    "    curr_list = list(pathlib.Path(path).iterdir())\n",
    "    img_list.extend(curr_list)\n",
    "\n",
    "img_list[0]"
   ]
  },
  {
   "cell_type": "code",
   "execution_count": 4,
   "metadata": {},
   "outputs": [],
   "source": [
    "test_list=[]\n",
    "for img in img_list:\n",
    "    if str(img).count('/data/spacenet/AOI_2_Vegas/val/3band/RGB-PanSharpen_AOI_2_Vegas_img21'):\n",
    "        test_list.append(img)"
   ]
  },
  {
   "cell_type": "code",
   "execution_count": 6,
   "metadata": {},
   "outputs": [
    {
     "name": "stderr",
     "output_type": "stream",
     "text": [
      "  0%|          | 0/9 [00:00<?, ?it/s]/workspaces/BetaNet/inference.py:111: UserWarning: final.png is a low contrast image\n",
      "  imsave('final.png', final_assem)\n",
      "100%|██████████| 9/9 [00:22<00:00,  2.53s/it]\n"
     ]
    }
   ],
   "source": [
    "%%capture --no-stderr\n",
    "#for img in tqdm(img_list[0:100]):\n",
    "for img in tqdm(test_list):\n",
    "    %run -i inference.py --saved_model {saved_model} --input_w {input_w} --input_h {input_h} --input_channels {input_channels} --num_classes {num_classes} --overlap {overlap} --image {img} --output_dir {output_dir} --png {png} "
   ]
  }
 ],
 "metadata": {
  "kernelspec": {
   "display_name": "base",
   "language": "python",
   "name": "python3"
  },
  "language_info": {
   "codemirror_mode": {
    "name": "ipython",
    "version": 3
   },
   "file_extension": ".py",
   "mimetype": "text/x-python",
   "name": "python",
   "nbconvert_exporter": "python",
   "pygments_lexer": "ipython3",
   "version": "3.8.17"
  },
  "orig_nbformat": 4,
  "vscode": {
   "interpreter": {
    "hash": "d4d1e4263499bec80672ea0156c357c1ee493ec2b1c70f0acce89fc37c4a6abe"
   }
  }
 },
 "nbformat": 4,
 "nbformat_minor": 2
}
