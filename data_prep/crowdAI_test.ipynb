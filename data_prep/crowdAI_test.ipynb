{
 "cells": [
  {
   "cell_type": "code",
   "execution_count": 5,
   "metadata": {},
   "outputs": [],
   "source": [
    "from pycocotools.coco import COCO\n",
    "from pycocotools import mask as cocomask\n",
    "import numpy as np\n",
    "import skimage.io as io\n",
    "import matplotlib.pyplot as plt\n",
    "import pylab\n",
    "import random\n",
    "import os\n",
    "from tqdm import tqdm\n",
    "from joblib import Parallel, delayed\n",
    "import shutil\n",
    "import rasterio as rio"
   ]
  },
  {
   "cell_type": "code",
   "execution_count": 62,
   "metadata": {},
   "outputs": [],
   "source": [
    "data_directory = \"/data/crowdai\"\n",
    "annotation_file_template = \"{}/{}/annotation{}.json\"\n",
    "\n",
    "TRAIN_IMAGES_DIRECTORY = \"/data/crowdai/train/3band\"\n",
    "TRAIN_ANNOTATIONS_PATH = \"/data/crowdai/train/annotation.json\"\n",
    "TRAIN_ANNOTATIONS_SMALL_PATH = \"/data/crowdai/train/annotation-small.json\"\n",
    "\n",
    "VAL_IMAGES_DIRECTORY = \"/data/crowdai/val/3band\"\n",
    "VAL_ANNOTATIONS_PATH = \"/data/crowdai/val/annotation.json\"\n",
    "VAL_ANNOTATIONS_SMALL_PATH = \"/data/crowdai/val/annotation-small.json\""
   ]
  },
  {
   "cell_type": "code",
   "execution_count": 63,
   "metadata": {},
   "outputs": [],
   "source": [
    "img = io.imread('/data/crowdai/train/3band/000000245651.jpg')\n",
    "mask = np.load('/data/crowdai/train/masks/000000245651.npy')"
   ]
  },
  {
   "cell_type": "code",
   "execution_count": 64,
   "metadata": {},
   "outputs": [
    {
     "data": {
      "text/plain": [
       "255"
      ]
     },
     "execution_count": 64,
     "metadata": {},
     "output_type": "execute_result"
    }
   ],
   "source": [
    "img.max()"
   ]
  },
  {
   "cell_type": "code",
   "execution_count": 14,
   "metadata": {},
   "outputs": [
    {
     "data": {
      "text/plain": [
       "(300, 300, 1)"
      ]
     },
     "execution_count": 14,
     "metadata": {},
     "output_type": "execute_result"
    }
   ],
   "source": [
    "np.expand_dims(mask, axis=2).shape"
   ]
  },
  {
   "cell_type": "code",
   "execution_count": 1,
   "metadata": {},
   "outputs": [],
   "source": [
    "import pathlib\n",
    "path = \"/data/crowdai/val/3band/\"\n",
    "val_img_list= list(pathlib.Path(path).iterdir())\n",
    "path = \"/data/crowdai/train/3band/\"\n",
    "train_img_list= list(pathlib.Path(path).iterdir())"
   ]
  },
  {
   "cell_type": "code",
   "execution_count": 2,
   "metadata": {},
   "outputs": [],
   "source": [
    "import random\n",
    "random_val_move = random.sample(range(len(val_img_list)), len(val_img_list)-3500)"
   ]
  },
  {
   "cell_type": "code",
   "execution_count": 3,
   "metadata": {},
   "outputs": [
    {
     "data": {
      "text/plain": [
       "56817"
      ]
     },
     "execution_count": 3,
     "metadata": {},
     "output_type": "execute_result"
    }
   ],
   "source": [
    "len(random_val_move)"
   ]
  },
  {
   "cell_type": "code",
   "execution_count": 7,
   "metadata": {},
   "outputs": [],
   "source": [
    "val_mask_root = '/data/crowdai/val/masks/'\n",
    "train_mask_root = '/data/crowdai/train/masks/'\n",
    "train_img_root = '/data/crowdai/train/3band/'\n",
    "\n",
    "for i in random_val_move:\n",
    "    val_img_path = val_img_list[i]\n",
    "    img_name = str(val_img_path).split('/')[-1].split('.')[0] + 'v.jpg'\n",
    "    val_mask_path = os.path.join(val_mask_root, str(val_img_path).split('/')[-1].split('.')[0] + '.npy')\n",
    "    train_mask_path = os.path.join(train_mask_root, str(val_img_path).split('/')[-1].split('.')[0] + 'v.npy')\n",
    "    train_img_path = os.path.join(train_img_root, img_name)\n",
    "    #if os.path.isfile(val_img_path):\n",
    "    #    shutil.move(val_img_path, train_img_path)\n",
    "    #    shutil.move(val_mask_path, train_mask_path)\n"
   ]
  },
  {
   "cell_type": "code",
   "execution_count": 6,
   "metadata": {},
   "outputs": [],
   "source": [
    "test_img_c = io.imread('/data/crowdai/train/3band/000000033920v.jpg')\n",
    "test_img_s = rio.open('/data/spacenet/AOI_2_Vegas/train/3band/RGB-PanSharpen_AOI_2_Vegas_img1007.tif').read([1,2,3])"
   ]
  },
  {
   "cell_type": "code",
   "execution_count": 4,
   "metadata": {},
   "outputs": [
    {
     "data": {
      "text/plain": [
       "255"
      ]
     },
     "execution_count": 4,
     "metadata": {},
     "output_type": "execute_result"
    }
   ],
   "source": [
    "test_img_c.max()"
   ]
  },
  {
   "cell_type": "code",
   "execution_count": 21,
   "metadata": {},
   "outputs": [
    {
     "data": {
      "text/plain": [
       "(array([  485., 20056., 64001., 74433., 59708., 27514., 16419.,  4949.,\n",
       "         1140.,  1295.]),\n",
       " array([0.        , 0.09960938, 0.19921875, 0.29882812, 0.3984375 ,\n",
       "        0.49804688, 0.59765625, 0.69726562, 0.796875  , 0.89648438,\n",
       "        0.99609375]),\n",
       " <BarContainer object of 10 artists>)"
      ]
     },
     "execution_count": 21,
     "metadata": {},
     "output_type": "execute_result"
    },
    {
     "data": {
      "image/png": "[encoded data removed]",
      "text/plain": [
       "<Figure size 640x480 with 1 Axes>"
      ]
     },
     "metadata": {},
     "output_type": "display_data"
    }
   ],
   "source": [
    "plt.hist(test_img_c.flatten()/2**8)"
   ]
  },
  {
   "cell_type": "code",
   "execution_count": 10,
   "metadata": {},
   "outputs": [
    {
     "data": {
      "text/plain": [
       "1772"
      ]
     },
     "execution_count": 10,
     "metadata": {},
     "output_type": "execute_result"
    }
   ],
   "source": [
    "test_img_s.max()"
   ]
  },
  {
   "cell_type": "code",
   "execution_count": 22,
   "metadata": {},
   "outputs": [
    {
     "data": {
      "text/plain": [
       "(array([3.29440e+04, 3.94198e+05, 5.08457e+05, 2.19377e+05, 8.76970e+04,\n",
       "        1.71200e+04, 4.33500e+03, 1.85000e+03, 1.01900e+03, 5.03000e+02]),\n",
       " array([5.64334086e-04, 1.00507901e-01, 2.00451467e-01, 3.00395034e-01,\n",
       "        4.00338600e-01, 5.00282167e-01, 6.00225734e-01, 7.00169300e-01,\n",
       "        8.00112867e-01, 9.00056433e-01, 1.00000000e+00]),\n",
       " <BarContainer object of 10 artists>)"
      ]
     },
     "execution_count": 22,
     "metadata": {},
     "output_type": "execute_result"
    },
    {
     "data": {
      "image/png": "[encoded data removed]",
      "text/plain": [
       "<Figure size 640x480 with 1 Axes>"
      ]
     },
     "metadata": {},
     "output_type": "display_data"
    }
   ],
   "source": [
    "plt.hist(test_img_s.flatten()/1772)"
   ]
  },
  {
   "cell_type": "code",
   "execution_count": null,
   "metadata": {},
   "outputs": [],
   "source": []
  }
 ],
 "metadata": {
  "kernelspec": {
   "display_name": "base",
   "language": "python",
   "name": "python3"
  },
  "language_info": {
   "codemirror_mode": {
    "name": "ipython",
    "version": 3
   },
   "file_extension": ".py",
   "mimetype": "text/x-python",
   "name": "python",
   "nbconvert_exporter": "python",
   "pygments_lexer": "ipython3",
   "version": "3.8.16"
  },
  "orig_nbformat": 4
 },
 "nbformat": 4,
 "nbformat_minor": 2
}
