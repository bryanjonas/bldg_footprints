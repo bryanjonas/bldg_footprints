{
 "cells": [
  {
   "cell_type": "code",
   "execution_count": 37,
   "metadata": {},
   "outputs": [],
   "source": [
    "import os\n",
    "import pathlib\n",
    "import random\n",
    "import shutil"
   ]
  },
  {
   "cell_type": "code",
   "execution_count": 3,
   "metadata": {},
   "outputs": [],
   "source": [
    "val_tiff_dirs = ['/data/spacenet/AOI_1_Rio/val/3band',\n",
    "                '/data/spacenet/AOI_2_Vegas/val/3band',\n",
    "                '/data/spacenet/AOI_3_Paris/val/3band',\n",
    "                '/data/spacenet/AOI_4_Shanghai/val/3band',\n",
    "                '/data/spacenet/AOI_5_Khartoum/val/3band']\n",
    "val_mask_dirs = ['/data/spacenet/AOI_1_Rio/val/masks',\n",
    "                '/data/spacenet/AOI_2_Vegas/val/masks',\n",
    "                '/data/spacenet/AOI_3_Paris/val/masks',\n",
    "                '/data/spacenet/AOI_4_Shanghai/val/masks',\n",
    "                '/data/spacenet/AOI_5_Khartoum/val/masks']\n",
    "\n",
    "for dir in val_tiff_dirs:\n",
    "    pathlib.Path(dir).mkdir(parents=True, exist_ok=True)\n",
    "\n",
    "for dir in val_mask_dirs:\n",
    "    pathlib.Path(dir).mkdir(parents=True, exist_ok=True)"
   ]
  },
  {
   "cell_type": "code",
   "execution_count": 53,
   "metadata": {},
   "outputs": [
    {
     "data": {
      "text/plain": [
       "['/data/spacenet/AOI_1_Rio/train/3band',\n",
       " '/data/spacenet/AOI_2_Vegas/train/3band',\n",
       " '/data/spacenet/AOI_3_Paris/train/3band',\n",
       " '/data/spacenet/AOI_4_Shanghai/train/3band',\n",
       " '/data/spacenet/AOI_5_Khartoum/train/3band']"
      ]
     },
     "execution_count": 53,
     "metadata": {},
     "output_type": "execute_result"
    }
   ],
   "source": [
    "root_path = \"/data/spacenet\"\n",
    "AOI_dirs = [\"AOI_1_Rio\",\"AOI_2_Vegas\",\"AOI_3_Paris\",\"AOI_4_Shanghai\",\"AOI_5_Khartoum\"]\n",
    "train_val = \"train\"\n",
    "tiff_dir = \"3band\"\n",
    "mask_dir = \"masks\"\n",
    "tiff_paths = list(os.path.join(root_path, AOI, train_val, tiff_dir) for AOI in AOI_dirs)\n",
    "tiff_paths\n"
   ]
  },
  {
   "cell_type": "code",
   "execution_count": 65,
   "metadata": {},
   "outputs": [],
   "source": [
    "for path in tiff_paths:\n",
    "    tiff_list = list(pathlib.Path(path).iterdir())\n",
    "    tiff_count = len(tiff_list)\n",
    "    val_count = int(round(tiff_count * 0.2, 0))\n",
    "    train_count = int(tiff_count - val_count)\n",
    "    val_indices = random.sample(range(tiff_count), val_count)\n",
    "\n",
    "    val_list = [str(tiff_list[i]) for i in val_indices]\n",
    "\n",
    "    for tif_path in val_list:\n",
    "        AOI_root = tif_path.split('train')[0]\n",
    "        image_id = tif_path.split(tiff_dir, maxsplit=1)[1].split('/')[1]\n",
    "        image_stem = tif_path.split(tiff_dir, maxsplit=1)[1].split('AOI')[1].split('.t')[0]\n",
    "        mask_id = 'AOI' + image_stem + '_mask.npy'\n",
    "\n",
    "        val_path = os.path.join(AOI_root, 'val/3band', image_id)\n",
    "        mask_train_path = os.path.join(AOI_root, 'train/masks', mask_id)\n",
    "        mask_val_path = os.path.join(AOI_root, 'val/masks', mask_id)\n",
    "\n",
    "        shutil.move(tif_path, val_path)\n",
    "        shutil.move(mask_train_path, mask_val_path)\n",
    "    \n",
    "    "
   ]
  },
  {
   "cell_type": "code",
   "execution_count": 45,
   "metadata": {},
   "outputs": [
    {
     "data": {
      "text/plain": [
       "'/data/spacenet/AOI_5_Khartoum/val/masks/AOI_5_Khartoum_img183_mask.npy'"
      ]
     },
     "execution_count": 45,
     "metadata": {},
     "output_type": "execute_result"
    }
   ],
   "source": [
    "test_path = '/data/spacenet/AOI_5_Khartoum/train/3band/RGB-PanSharpen_AOI_5_Khartoum_img183.tif'\n",
    "AOI_root = test_path.split('train')[0]\n",
    "image_id = test_path.split(tiff_dir)[1].split('/')[1]\n",
    "image_stem = test_path.split(tiff_dir)[1].split('AOI')[1].split('.t')[0]\n",
    "mask_id = 'AOI' + image_stem + '_mask.npy'\n",
    "\n",
    "val_path = os.path.join(AOI_root, 'val/3band', image_id)\n",
    "mask_train_path = os.path.join(AOI_root, 'train/masks', mask_id)\n",
    "mask_val_path = os.path.join(AOI_root, 'val/masks', mask_id)\n",
    "\n",
    "shutil.move(test_path, val_path)\n",
    "shutil.move(mask_train_path, mask_val_path)\n"
   ]
  }
 ],
 "metadata": {
  "kernelspec": {
   "display_name": "Python 3.8.15 ('base')",
   "language": "python",
   "name": "python3"
  },
  "language_info": {
   "codemirror_mode": {
    "name": "ipython",
    "version": 3
   },
   "file_extension": ".py",
   "mimetype": "text/x-python",
   "name": "python",
   "nbconvert_exporter": "python",
   "pygments_lexer": "ipython3",
   "version": "3.8.15"
  },
  "orig_nbformat": 4,
  "vscode": {
   "interpreter": {
    "hash": "d4d1e4263499bec80672ea0156c357c1ee493ec2b1c70f0acce89fc37c4a6abe"
   }
  }
 },
 "nbformat": 4,
 "nbformat_minor": 2
}
