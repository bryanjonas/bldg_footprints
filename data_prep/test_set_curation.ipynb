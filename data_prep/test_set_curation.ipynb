{
 "cells": [
  {
   "cell_type": "code",
   "execution_count": 2,
   "metadata": {},
   "outputs": [],
   "source": [
    "import rasterio as rio\n",
    "import skimage.io as io\n",
    "import matplotlib.pyplot as plt\n",
    "import pathlib\n",
    "import os\n",
    "import random\n",
    "import json"
   ]
  },
  {
   "cell_type": "code",
   "execution_count": 3,
   "metadata": {},
   "outputs": [],
   "source": [
    "paths = [\"/data/spacenet/AOI_1_Rio\",\"/data/spacenet/AOI_2_Vegas\",\"/data/spacenet/AOI_3_Paris\",\"/data/spacenet/AOI_4_Shanghai\",\"/data/spacenet/AOI_5_Khartoum\",\"/data/crowdai\"]\n",
    "img_dir = \"3band\"\n",
    "mask_dir = \"masks\"\n",
    "train_val = \"val\""
   ]
  },
  {
   "cell_type": "code",
   "execution_count": 4,
   "metadata": {},
   "outputs": [],
   "source": [
    "img_paths = list(os.path.join(path, train_val, img_dir) for path in paths)\n",
    "img_list = []\n",
    "for path in img_paths:\n",
    "    curr_list = list(pathlib.Path(path).iterdir())\n",
    "    img_list.extend(curr_list)"
   ]
  },
  {
   "cell_type": "code",
   "execution_count": 9,
   "metadata": {},
   "outputs": [],
   "source": [
    "random_sample = random.sample(range(len(img_list)), 700)"
   ]
  },
  {
   "cell_type": "code",
   "execution_count": 14,
   "metadata": {},
   "outputs": [],
   "source": [
    "test_set_list = []\n",
    "for i in random_sample:\n",
    "    test_set_list.append(str(img_list[i]))"
   ]
  },
  {
   "cell_type": "code",
   "execution_count": 15,
   "metadata": {},
   "outputs": [],
   "source": [
    "with open('../test_set.json', 'a') as file:\n",
    "    file.write(json.dumps(test_set_list))"
   ]
  },
  {
   "cell_type": "code",
   "execution_count": 3,
   "metadata": {},
   "outputs": [],
   "source": [
    "with open('../test_set.json', 'r') as file:\n",
    "    file_out = json.load(file)"
   ]
  },
  {
   "cell_type": "code",
   "execution_count": 5,
   "metadata": {},
   "outputs": [
    {
     "data": {
      "text/plain": [
       "'/data/spacenet/AOI_4_Shanghai/val/3band/RGB-PanSharpen_AOI_4_Shanghai_img5505.tif'"
      ]
     },
     "execution_count": 5,
     "metadata": {},
     "output_type": "execute_result"
    }
   ],
   "source": []
  },
  {
   "cell_type": "code",
   "execution_count": null,
   "metadata": {},
   "outputs": [],
   "source": []
  }
 ],
 "metadata": {
  "kernelspec": {
   "display_name": "base",
   "language": "python",
   "name": "python3"
  },
  "language_info": {
   "codemirror_mode": {
    "name": "ipython",
    "version": 3
   },
   "file_extension": ".py",
   "mimetype": "text/x-python",
   "name": "python",
   "nbconvert_exporter": "python",
   "pygments_lexer": "ipython3",
   "version": "3.8.16"
  },
  "orig_nbformat": 4
 },
 "nbformat": 4,
 "nbformat_minor": 2
}
